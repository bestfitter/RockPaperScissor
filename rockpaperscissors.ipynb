{
 "cells": [
  {
   "cell_type": "markdown",
   "metadata": {},
   "source": [
    "# Machine Learning as an alternative to writing code: A simple ML example of rock-paper-scissor game\n",
    "\n",
    "In his book *The Master Algorithm*, Pedro Domingos writes that 'the race is on to invent the ultimate learning algorithm: one capable of discovering any knowledge from data - building working, adaptive software systems with less and less human assistance'. One interesting (and quite amusing) aspect of Machine Learning is that if all the rules (logic) of a system can be fed to it in the form of data, the Machine Learning (ML) algorithm will learn('fit') it and perform as if it has learned the logic. \n",
    "\n",
    "Here I have a trivial example to show how the simple game of [rock-paper-scissors](https://en.wikipedia.org/wiki/Rock%E2%80%93paper%E2%80%93scissors) can be implemented by a Machine Learning algorithm instead of writing the code for its logic. All we have to do is to give the ML algorithm all the data representing each rule.\n",
    "\n",
    "## Implementing with code\n",
    "If we were to write the code for the rock-paper-scissors game in Python it would look something like this and would be similar in other computer languages:"
   ]
  },
  {
   "cell_type": "code",
   "execution_count": 11,
   "metadata": {},
   "outputs": [
    {
     "name": "stdout",
     "output_type": "stream",
     "text": [
      "paper  +  rock  =  paper\n",
      "scissors  +  rock  =  rock\n",
      "scissors  +  scissors  =  draw\n"
     ]
    }
   ],
   "source": [
    "# Define procedure for Rock-Paper-Scissors game logic\n",
    "def rps(p1,p2):\n",
    "    if p1==p2:\n",
    "        return 'draw'\n",
    "    \n",
    "    rs=['rock', 'scissors']\n",
    "    rp=['rock','paper']\n",
    "    ps=['paper','scissors']\n",
    "    \n",
    "    if p1 in rs and p2 in rs:\n",
    "        return 'rock'\n",
    "    if p1 in rp and p2 in rp:\n",
    "        return 'paper'\n",
    "    if p1 in ps and p2 in ps:\n",
    "        return 'scissors'\n",
    "\n",
    "# Test the game logic with different combinations\n",
    "    \n",
    "r='rock'\n",
    "p='paper'\n",
    "s='scissors'\n",
    "\n",
    "p1=p\n",
    "p2=r\n",
    "print(p1,' + ',p2,' = ',rps(p1,p2))\n",
    "\n",
    "p1=s\n",
    "p2=r\n",
    "print(p1,' + ',p2,' = ',rps(p1,p2))\n",
    "\n",
    "p1=s\n",
    "p2=s\n",
    "print(p1,' + ',p2,' = ',rps(p1,p2))"
   ]
  },
  {
   "cell_type": "markdown",
   "metadata": {},
   "source": [
    "## Implementing with a Machine Learning algorithm\n",
    "Now lets make an ML algorithm to learn the rules of the this game. \n",
    "\n",
    "First we make a table containing all the combinations of 'rock', 'paper' and 'scissors' between two players and the corresponding outcome of the game. Note that this table can also be easily made in Excel or any text editor and read into the program."
   ]
  },
  {
   "cell_type": "code",
   "execution_count": 18,
   "metadata": {},
   "outputs": [
    {
     "data": {
      "text/html": [
       "<div>\n",
       "<style scoped>\n",
       "    .dataframe tbody tr th:only-of-type {\n",
       "        vertical-align: middle;\n",
       "    }\n",
       "\n",
       "    .dataframe tbody tr th {\n",
       "        vertical-align: top;\n",
       "    }\n",
       "\n",
       "    .dataframe thead th {\n",
       "        text-align: right;\n",
       "    }\n",
       "</style>\n",
       "<table border=\"1\" class=\"dataframe\">\n",
       "  <thead>\n",
       "    <tr style=\"text-align: right;\">\n",
       "      <th></th>\n",
       "      <th>player1</th>\n",
       "      <th>player2</th>\n",
       "      <th>outcome</th>\n",
       "    </tr>\n",
       "  </thead>\n",
       "  <tbody>\n",
       "    <tr>\n",
       "      <th>0</th>\n",
       "      <td>rock</td>\n",
       "      <td>rock</td>\n",
       "      <td>draw</td>\n",
       "    </tr>\n",
       "    <tr>\n",
       "      <th>1</th>\n",
       "      <td>rock</td>\n",
       "      <td>paper</td>\n",
       "      <td>paper</td>\n",
       "    </tr>\n",
       "    <tr>\n",
       "      <th>2</th>\n",
       "      <td>rock</td>\n",
       "      <td>scissors</td>\n",
       "      <td>rock</td>\n",
       "    </tr>\n",
       "    <tr>\n",
       "      <th>3</th>\n",
       "      <td>paper</td>\n",
       "      <td>rock</td>\n",
       "      <td>paper</td>\n",
       "    </tr>\n",
       "    <tr>\n",
       "      <th>4</th>\n",
       "      <td>paper</td>\n",
       "      <td>paper</td>\n",
       "      <td>draw</td>\n",
       "    </tr>\n",
       "    <tr>\n",
       "      <th>5</th>\n",
       "      <td>paper</td>\n",
       "      <td>scissors</td>\n",
       "      <td>scissors</td>\n",
       "    </tr>\n",
       "    <tr>\n",
       "      <th>6</th>\n",
       "      <td>scissors</td>\n",
       "      <td>rock</td>\n",
       "      <td>rock</td>\n",
       "    </tr>\n",
       "    <tr>\n",
       "      <th>7</th>\n",
       "      <td>scissors</td>\n",
       "      <td>paper</td>\n",
       "      <td>scissors</td>\n",
       "    </tr>\n",
       "    <tr>\n",
       "      <th>8</th>\n",
       "      <td>scissors</td>\n",
       "      <td>scissors</td>\n",
       "      <td>draw</td>\n",
       "    </tr>\n",
       "  </tbody>\n",
       "</table>\n",
       "</div>"
      ],
      "text/plain": [
       "    player1   player2   outcome\n",
       "0      rock      rock      draw\n",
       "1      rock     paper     paper\n",
       "2      rock  scissors      rock\n",
       "3     paper      rock     paper\n",
       "4     paper     paper      draw\n",
       "5     paper  scissors  scissors\n",
       "6  scissors      rock      rock\n",
       "7  scissors     paper  scissors\n",
       "8  scissors  scissors      draw"
      ]
     },
     "execution_count": 18,
     "metadata": {},
     "output_type": "execute_result"
    }
   ],
   "source": [
    "import pandas as pd\n",
    "import numpy as np\n",
    "from sklearn import preprocessing\n",
    "\n",
    "player1 =['rock','rock','rock','paper','paper','paper','scissors','scissors','scissors']\n",
    "player2 =['rock','paper','scissors','rock','paper','scissors','rock','paper','scissors']\n",
    "outcome =['draw','paper','rock','paper','draw','scissors','rock','scissors','draw']\n",
    "d = {\n",
    "    'player1': player1,\n",
    "    'player2': player2,\n",
    "    'outcome' : outcome\n",
    "}\n",
    "rpstable=pd.DataFrame(data=d)\n",
    "rpstable"
   ]
  },
  {
   "cell_type": "markdown",
   "metadata": {},
   "source": [
    "The table above is all that an ML algorithm needs to train itself. However, the algorithms work better if the data is represented in numeric form rather than text, at least for the player1 and player2 columns. We will assign numbers to 'rock', 'paper', and 'scissors'; such as 'paper' = 0, 'rock'=1 and 'scissors'=2. The transformed table is shown below."
   ]
  },
  {
   "cell_type": "code",
   "execution_count": 38,
   "metadata": {},
   "outputs": [
    {
     "data": {
      "text/html": [
       "<div>\n",
       "<style scoped>\n",
       "    .dataframe tbody tr th:only-of-type {\n",
       "        vertical-align: middle;\n",
       "    }\n",
       "\n",
       "    .dataframe tbody tr th {\n",
       "        vertical-align: top;\n",
       "    }\n",
       "\n",
       "    .dataframe thead th {\n",
       "        text-align: right;\n",
       "    }\n",
       "</style>\n",
       "<table border=\"1\" class=\"dataframe\">\n",
       "  <thead>\n",
       "    <tr style=\"text-align: right;\">\n",
       "      <th></th>\n",
       "      <th>player1</th>\n",
       "      <th>player2</th>\n",
       "      <th>outcome</th>\n",
       "    </tr>\n",
       "  </thead>\n",
       "  <tbody>\n",
       "    <tr>\n",
       "      <th>0</th>\n",
       "      <td>1</td>\n",
       "      <td>1</td>\n",
       "      <td>draw</td>\n",
       "    </tr>\n",
       "    <tr>\n",
       "      <th>1</th>\n",
       "      <td>1</td>\n",
       "      <td>0</td>\n",
       "      <td>paper</td>\n",
       "    </tr>\n",
       "    <tr>\n",
       "      <th>2</th>\n",
       "      <td>1</td>\n",
       "      <td>2</td>\n",
       "      <td>rock</td>\n",
       "    </tr>\n",
       "    <tr>\n",
       "      <th>3</th>\n",
       "      <td>0</td>\n",
       "      <td>1</td>\n",
       "      <td>paper</td>\n",
       "    </tr>\n",
       "    <tr>\n",
       "      <th>4</th>\n",
       "      <td>0</td>\n",
       "      <td>0</td>\n",
       "      <td>draw</td>\n",
       "    </tr>\n",
       "    <tr>\n",
       "      <th>5</th>\n",
       "      <td>0</td>\n",
       "      <td>2</td>\n",
       "      <td>scissors</td>\n",
       "    </tr>\n",
       "    <tr>\n",
       "      <th>6</th>\n",
       "      <td>2</td>\n",
       "      <td>1</td>\n",
       "      <td>rock</td>\n",
       "    </tr>\n",
       "    <tr>\n",
       "      <th>7</th>\n",
       "      <td>2</td>\n",
       "      <td>0</td>\n",
       "      <td>scissors</td>\n",
       "    </tr>\n",
       "    <tr>\n",
       "      <th>8</th>\n",
       "      <td>2</td>\n",
       "      <td>2</td>\n",
       "      <td>draw</td>\n",
       "    </tr>\n",
       "  </tbody>\n",
       "</table>\n",
       "</div>"
      ],
      "text/plain": [
       "   player1  player2   outcome\n",
       "0        1        1      draw\n",
       "1        1        0     paper\n",
       "2        1        2      rock\n",
       "3        0        1     paper\n",
       "4        0        0      draw\n",
       "5        0        2  scissors\n",
       "6        2        1      rock\n",
       "7        2        0  scissors\n",
       "8        2        2      draw"
      ]
     },
     "execution_count": 38,
     "metadata": {},
     "output_type": "execute_result"
    }
   ],
   "source": [
    "# Encode text labels 'rock','paper','scissors' to numbers for player1 and player2 columns\n",
    "le = preprocessing.LabelEncoder()\n",
    "le.fit(['rock','paper','scissors'])\n",
    "newtable=pd.DataFrame()\n",
    "newtable['player1']=le.transform(rpstable.player1)\n",
    "newtable['player2']=le.transform(rpstable.player2)\n",
    "newtable['outcome']=rpstable.outcome\n",
    "newtable"
   ]
  },
  {
   "cell_type": "code",
   "execution_count": 39,
   "metadata": {},
   "outputs": [],
   "source": [
    "# Separate training data (i.e player1 and player2 columns) into X and \n",
    "# outcome column into Y for feeding into model\n",
    "X=newtable.drop(labels='outcome', axis='columns')\n",
    "Y=newtable['outcome']"
   ]
  },
  {
   "cell_type": "markdown",
   "metadata": {},
   "source": [
    "### With ML algorithm Support Vector Machine\n",
    "All we did above is to put the data (all play combinations and their outcome) in a table form and encode the text labels to numeric. \n",
    "\n",
    "Now we pick an ML algorithm (of many available) and train it on the data. The algorithm used here is [Support Vector Machine](https://en.wikipedia.org/wiki/Support_vector_machine)."
   ]
  },
  {
   "cell_type": "code",
   "execution_count": 42,
   "metadata": {},
   "outputs": [
    {
     "name": "stdout",
     "output_type": "stream",
     "text": [
      "Done. Accuracy=100.0%\n"
     ]
    }
   ],
   "source": [
    "from sklearn import svm\n",
    "clfsvm = svm.SVC(C=10)\n",
    "\n",
    "clfsvm.fit(X, Y)\n",
    "print('Done. Accuracy={}%'.format(clfsvm.score(X,Y)*100))"
   ]
  },
  {
   "cell_type": "markdown",
   "metadata": {},
   "source": [
    "Thats it. The ML algorithm trained itself with an accuracy of 100%. We can test it by giving it various plays and see if it come up with the correct out come.   \n",
    "\n",
    "game1: player1=rock,  player2=sciccors -> outcome=rock  \n",
    "game2: player1=paper, player2=rock     -> outcome=paper  \n",
    "game3: player1=paper,  player2=paper -> outcome=draw"
   ]
  },
  {
   "cell_type": "code",
   "execution_count": 58,
   "metadata": {},
   "outputs": [
    {
     "name": "stdout",
     "output_type": "stream",
     "text": [
      "game1 outcome= rock\n",
      "game2 outcome= paper\n",
      "game3 outcome= draw\n"
     ]
    }
   ],
   "source": [
    "# Our encoding\n",
    "paper=0\n",
    "rock=1\n",
    "scissors=2\n",
    "\n",
    "game1=np.array([rock,scissors]).reshape(1,-1)\n",
    "game2=np.array([paper,rock]).reshape(1,-1)\n",
    "game3=np.array([paper,paper]).reshape(1,-1)\n",
    "\n",
    "# game1: player1=rock, player2=sciccors -> outcome=rock\n",
    "print('game1 outcome=',*clfsvm.predict(game1))\n",
    "\n",
    "# game2: player1=paper, player2=rock -> outcome=paper\n",
    "print('game2 outcome=',*clfsvm.predict(game2))\n",
    "\n",
    "# game3: player1=paper, player2=paper -> outcome=draw\n",
    "print('game3 outcome=',*clfsvm.predict(game3))"
   ]
  },
  {
   "cell_type": "markdown",
   "metadata": {},
   "source": [
    "In fact we can run all the possible plays and see the ML algorithm's performance."
   ]
  },
  {
   "cell_type": "code",
   "execution_count": 62,
   "metadata": {},
   "outputs": [
    {
     "name": "stdout",
     "output_type": "stream",
     "text": [
      "True Outcome: ['draw', 'paper', 'rock', 'paper', 'draw', 'scissors', 'rock', 'scissors', 'draw']\n",
      "ML Outcome  : ['draw', 'paper', 'rock', 'paper', 'draw', 'scissors', 'rock', 'scissors', 'draw']\n"
     ]
    }
   ],
   "source": [
    "print('True Outcome:',list(Y))\n",
    "print('ML Outcome  :',list(clfsvm.predict(X)))"
   ]
  },
  {
   "cell_type": "markdown",
   "metadata": {},
   "source": [
    "### With Neural Network ML algorithm \n",
    "Just for fun we can quickly train a different ML algorithm and test it. This algorithm is based on [neural network](https://en.wikipedia.org/wiki/Artificial_neural_network)."
   ]
  },
  {
   "cell_type": "code",
   "execution_count": 63,
   "metadata": {},
   "outputs": [
    {
     "name": "stdout",
     "output_type": "stream",
     "text": [
      "actual: ['draw', 'paper', 'rock', 'paper', 'draw', 'scissors', 'rock', 'scissors', 'draw']\n",
      "predic: ['draw', 'paper', 'rock', 'paper', 'draw', 'scissors', 'rock', 'scissors', 'draw']\n",
      "Accuracy =100.0%\n"
     ]
    },
    {
     "name": "stderr",
     "output_type": "stream",
     "text": [
      "c:\\users\\deepmind\\appdata\\local\\programs\\python\\python36\\lib\\site-packages\\sklearn\\neural_network\\multilayer_perceptron.py:564: ConvergenceWarning: Stochastic Optimizer: Maximum iterations (200) reached and the optimization hasn't converged yet.\n",
      "  % self.max_iter, ConvergenceWarning)\n"
     ]
    }
   ],
   "source": [
    "from sklearn.neural_network import MLPClassifier\n",
    "\n",
    "clfNN = MLPClassifier()\n",
    "\n",
    "print('actual:',list(Y))\n",
    "print('predic:',list(clfNN.fit(X, Y).predict(X)))\n",
    "print('Accuracy ={}%'.format(clfNN.score(X,Y)*100))    "
   ]
  }
 ],
 "metadata": {
  "kernelspec": {
   "display_name": "Python 3",
   "language": "python",
   "name": "python3"
  },
  "language_info": {
   "codemirror_mode": {
    "name": "ipython",
    "version": 3
   },
   "file_extension": ".py",
   "mimetype": "text/x-python",
   "name": "python",
   "nbconvert_exporter": "python",
   "pygments_lexer": "ipython3",
   "version": "3.6.5"
  }
 },
 "nbformat": 4,
 "nbformat_minor": 2
}
